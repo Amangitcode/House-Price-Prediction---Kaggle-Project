{
 "cells": [
  {
   "cell_type": "code",
   "execution_count": 1,
   "metadata": {
    "_cell_guid": "b1076dfc-b9ad-4769-8c92-a6c4dae69d19",
    "_uuid": "8f2839f25d086af736a60e9eeb907d3b93b6e0e5"
   },
   "outputs": [],
   "source": [
    "#Import required libs\n",
    "import pandas as pd\n",
    "import numpy as np\n",
    "import seaborn as sns;sns.set()\n",
    "import matplotlib.pyplot as plt\n",
    "\n",
    "%matplotlib inline\n",
    "\n",
    "import warnings\n",
    "warnings.filterwarnings(\"ignore\")"
   ]
  },
  {
   "cell_type": "code",
   "execution_count": 2,
   "metadata": {
    "_cell_guid": "79c7e3d0-c299-4dcb-8224-4455121ee9b0",
    "_uuid": "d629ff2d2480ee46fbb7e2d37f6b5fab8052498a"
   },
   "outputs": [],
   "source": [
    "#Import raw data and copy them in test and train variable. Concat them together for feature engineering\n",
    "train = pd.read_csv('../input/train.csv')\n",
    "test = pd.read_csv('../input/test.csv')\n",
    "t = train.copy()\n",
    "ts = test.copy()\n",
    "d = pd.concat([t.drop('SalePrice',axis=1),ts])"
   ]
  },
  {
   "cell_type": "markdown",
   "metadata": {
    "_uuid": "1004a37c483a20afaf926bb179877dd1f6d9d33b"
   },
   "source": [
    "## Data visualization and handle missing values"
   ]
  },
  {
   "cell_type": "code",
   "execution_count": 3,
   "metadata": {
    "_uuid": "2f611fda353136e1c8b83d4d4e83ff70c917ef8b"
   },
   "outputs": [],
   "source": [
    "#Missing value\n",
    "miss_col = t.columns[1:-1]\n",
    "def fill_na(df):\n",
    "    for col in miss_col:\n",
    "        if (df[col].dtype =='int64'):\n",
    "            df[col]=df[col].fillna(df[col].mode()[0])\n",
    "        elif (df[col].dtype =='float64'):\n",
    "            df[col]=df[col].fillna(df[col].mode()[0])\n",
    "        else:\n",
    "            df[col]=df[col].fillna('N')\n",
    "    return df"
   ]
  },
  {
   "cell_type": "code",
   "execution_count": 4,
   "metadata": {
    "_uuid": "cd349f5b602a7652201d17833435d75fa284a6a6"
   },
   "outputs": [],
   "source": [
    "#continious var -> Catagorical\n",
    "cut_cols=t.columns[1:-1]\n",
    "def col_cut(df):\n",
    "    for col in cut_cols:\n",
    "        if ((df[col].dtype=='int64')|(df[col].dtype=='float64')):\n",
    "            df[col]=pd.cut(df[col],30)\n",
    "    return df"
   ]
  },
  {
   "cell_type": "code",
   "execution_count": 5,
   "metadata": {
    "_uuid": "118c12f465fed138fe699c77e2dbaeeded15f874"
   },
   "outputs": [
    {
     "data": {
      "text/plain": [
       "object     43\n",
       "int64      35\n",
       "float64     3\n",
       "dtype: int64"
      ]
     },
     "execution_count": 5,
     "metadata": {},
     "output_type": "execute_result"
    }
   ],
   "source": [
    "t.dtypes.value_counts()"
   ]
  },
  {
   "cell_type": "code",
   "execution_count": 6,
   "metadata": {
    "_uuid": "8a0becc939f16ee6657c944823a3512290e9efa5",
    "scrolled": true
   },
   "outputs": [],
   "source": [
    "# fill missing value + continious_var to Catagorical_var\n",
    "#df = col_cut(df)\n",
    "def clean(df):\n",
    "    df = fill_na(df)\n",
    "    return df"
   ]
  },
  {
   "cell_type": "code",
   "execution_count": 7,
   "metadata": {
    "_uuid": "0edd1012322c1e886b9b96129abd3f6e8aa9861a"
   },
   "outputs": [],
   "source": [
    "t = clean(t)\n",
    "ts = clean(ts)\n",
    "d = pd.concat([t.drop('SalePrice',axis=1),ts])"
   ]
  },
  {
   "cell_type": "code",
   "execution_count": 8,
   "metadata": {
    "_uuid": "747e4be1c166b1b98387c35e971f08246f7d4427"
   },
   "outputs": [],
   "source": [
    "# Lebel Encoding function\n",
    "from sklearn import preprocessing\n",
    "lebel_cols = t.columns[1:-1]\n",
    "\n",
    "def lebel_encoding(df):\n",
    "    for col in lebel_cols:\n",
    "        if (df[col].dtype=='object'):\n",
    "            le = preprocessing.LabelEncoder()\n",
    "            le = le.fit(d[col])\n",
    "            df[col] = le.transform(df[col])\n",
    "    return df"
   ]
  },
  {
   "cell_type": "code",
   "execution_count": 9,
   "metadata": {
    "_uuid": "f285d76826104e96ce1669a0e2f63b39846aa013"
   },
   "outputs": [],
   "source": [
    "# Lebel Encoding execution\n",
    "t = lebel_encoding(t)\n",
    "ts = lebel_encoding(ts)"
   ]
  },
  {
   "cell_type": "code",
   "execution_count": 10,
   "metadata": {
    "_uuid": "50605cc9c162c7562336697d251a1321c2cc1126"
   },
   "outputs": [],
   "source": [
    "# X and Y for train model Y = wX + b\n",
    "X = t.drop(['Id','SalePrice'],axis=1)\n",
    "Y = t.SalePrice\n",
    "\n",
    "ts_sub = ts.drop('Id',axis=1)"
   ]
  },
  {
   "cell_type": "code",
   "execution_count": 11,
   "metadata": {
    "_uuid": "34a292d6d5d6baeb7de9f78080898d4ece72063a"
   },
   "outputs": [],
   "source": [
    "# Model selection\n",
    "from sklearn.ensemble import RandomForestRegressor\n",
    "from sklearn.metrics import mean_absolute_error\n",
    "from sklearn.model_selection import train_test_split"
   ]
  },
  {
   "cell_type": "code",
   "execution_count": 12,
   "metadata": {
    "_uuid": "e1eb39136472ed6b583d443f6bfcca95b71cb8d4"
   },
   "outputs": [],
   "source": [
    "#Split X and Y in test and evaluate set\n",
    "X_train,X_test,Y_train,Y_test = train_test_split(X,Y,test_size=0.2,random_state=42)"
   ]
  },
  {
   "cell_type": "code",
   "execution_count": 13,
   "metadata": {
    "_uuid": "90d9cf435652727152d7bf954cd5e2dbfdac621f"
   },
   "outputs": [
    {
     "data": {
      "text/plain": [
       "19958.48877788878"
      ]
     },
     "execution_count": 13,
     "metadata": {},
     "output_type": "execute_result"
    }
   ],
   "source": [
    "# Define error matrics and tune model parameter\n",
    "error = mean_absolute_error\n",
    "rf = RandomForestRegressor(bootstrap=True, criterion='mse', max_depth=None,\n",
    "           max_features='auto', max_leaf_nodes=481,\n",
    "           min_impurity_decrease=0.0, min_impurity_split=None,\n",
    "           min_samples_leaf=1, min_samples_split=2,\n",
    "           min_weight_fraction_leaf=0.0, n_estimators=10, n_jobs=None,\n",
    "           oob_score=False, random_state=1, verbose=0, warm_start=False)\n",
    "rf = rf.fit(X_train,Y_train)\n",
    "Y_SalePrice = rf.predict(X_test)\n",
    "error = error(Y_SalePrice,Y_test)\n",
    "error"
   ]
  },
  {
   "cell_type": "code",
   "execution_count": 14,
   "metadata": {
    "_uuid": "eef67422dc58c36ed7d374c66cc29ac59ed36b46"
   },
   "outputs": [],
   "source": [
    "# Fit model and predict sales price\n",
    "rf = rf.fit(X,Y)\n",
    "Sale_Price_sub = rf.predict(ts_sub) "
   ]
  },
  {
   "cell_type": "code",
   "execution_count": 15,
   "metadata": {
    "_uuid": "a56759ed624304313abef7688aaffe362350b756"
   },
   "outputs": [
    {
     "data": {
      "text/plain": [
       "Index(['Id', 'MSSubClass', 'MSZoning', 'LotFrontage', 'LotArea', 'Street',\n",
       "       'Alley', 'LotShape', 'LandContour', 'Utilities', 'LotConfig',\n",
       "       'LandSlope', 'Neighborhood', 'Condition1', 'Condition2', 'BldgType',\n",
       "       'HouseStyle', 'OverallQual', 'OverallCond', 'YearBuilt', 'YearRemodAdd',\n",
       "       'RoofStyle', 'RoofMatl', 'Exterior1st', 'Exterior2nd', 'MasVnrType',\n",
       "       'MasVnrArea', 'ExterQual', 'ExterCond', 'Foundation', 'BsmtQual',\n",
       "       'BsmtCond', 'BsmtExposure', 'BsmtFinType1', 'BsmtFinSF1',\n",
       "       'BsmtFinType2', 'BsmtFinSF2', 'BsmtUnfSF', 'TotalBsmtSF', 'Heating',\n",
       "       'HeatingQC', 'CentralAir', 'Electrical', '1stFlrSF', '2ndFlrSF',\n",
       "       'LowQualFinSF', 'GrLivArea', 'BsmtFullBath', 'BsmtHalfBath', 'FullBath',\n",
       "       'HalfBath', 'BedroomAbvGr', 'KitchenAbvGr', 'KitchenQual',\n",
       "       'TotRmsAbvGrd', 'Functional', 'Fireplaces', 'FireplaceQu', 'GarageType',\n",
       "       'GarageYrBlt', 'GarageFinish', 'GarageCars', 'GarageArea', 'GarageQual',\n",
       "       'GarageCond', 'PavedDrive', 'WoodDeckSF', 'OpenPorchSF',\n",
       "       'EnclosedPorch', '3SsnPorch', 'ScreenPorch', 'PoolArea', 'PoolQC',\n",
       "       'Fence', 'MiscFeature', 'MiscVal', 'MoSold', 'YrSold', 'SaleType',\n",
       "       'SaleCondition', 'SalePrice'],\n",
       "      dtype='object')"
      ]
     },
     "execution_count": 15,
     "metadata": {},
     "output_type": "execute_result"
    }
   ],
   "source": [
    "ts['SalePrice'] = Sale_Price_sub\n",
    "ts.columns"
   ]
  },
  {
   "cell_type": "code",
   "execution_count": 16,
   "metadata": {
    "_uuid": "180686d3dabc3ad1aebc3be5ff280907e6493d7c"
   },
   "outputs": [],
   "source": [
    "#Save result for submission\n",
    "ts[['Id','SalePrice']].to_csv('Sub1.csv',index=False)"
   ]
  },
  {
   "cell_type": "code",
   "execution_count": 17,
   "metadata": {
    "_uuid": "5d9a18db8911e829f62471441ef4c7552b6c4ee0"
   },
   "outputs": [],
   "source": []
  },
  {
   "cell_type": "code",
   "execution_count": 17,
   "metadata": {
    "_uuid": "f932bc13750f133c7fcf03768a5394679b5ab34e"
   },
   "outputs": [],
   "source": []
  }
 ],
 "metadata": {
  "kernelspec": {
   "display_name": "Python 3",
   "language": "python",
   "name": "python3"
  },
  "language_info": {
   "codemirror_mode": {
    "name": "ipython",
    "version": 3
   },
   "file_extension": ".py",
   "mimetype": "text/x-python",
   "name": "python",
   "nbconvert_exporter": "python",
   "pygments_lexer": "ipython3",
   "version": "3.6.6"
  }
 },
 "nbformat": 4,
 "nbformat_minor": 1
}
